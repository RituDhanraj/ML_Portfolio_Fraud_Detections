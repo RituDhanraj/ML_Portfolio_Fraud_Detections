{
 "cells": [
  {
   "cell_type": "markdown",
   "id": "df5f428c",
   "metadata": {},
   "source": [
    "# 02 – Model Training (Baseline)\n",
    "Train/test split, baseline models, and metrics."
   ]
  },
  {
   "cell_type": "code",
   "execution_count": 1,
   "id": "a0711d45",
   "metadata": {},
   "outputs": [
    {
     "name": "stdout",
     "output_type": "stream",
     "text": [
      "Baseline Logistic ROC-AUC: 0.9722\n",
      "\n",
      "Classification report (threshold=0.5):\n",
      "               precision    recall  f1-score   support\n",
      "\n",
      "           0       1.00      0.98      0.99     56864\n",
      "           1       0.06      0.92      0.11        98\n",
      "\n",
      "    accuracy                           0.98     56962\n",
      "   macro avg       0.53      0.95      0.55     56962\n",
      "weighted avg       1.00      0.98      0.99     56962\n",
      "\n",
      "\n",
      "Confusion Matrix:\n",
      " [[55478  1386]\n",
      " [    8    90]]\n"
     ]
    }
   ],
   "source": [
    "import pandas as pd\n",
    "from pathlib import Path\n",
    "from sklearn.model_selection import train_test_split\n",
    "from sklearn.preprocessing import StandardScaler\n",
    "from sklearn.linear_model import LogisticRegression\n",
    "from sklearn.metrics import roc_auc_score, classification_report, confusion_matrix\n",
    "\n",
    "df = pd.read_csv(Path('../data/raw/creditcard.csv'))\n",
    "\n",
    "X = df.drop(columns=['Class'])\n",
    "y = df['Class']\n",
    "\n",
    "X_train, X_test, y_train, y_test = train_test_split(\n",
    "    X, y, test_size=0.2, random_state=42, stratify=y\n",
    ")\n",
    "\n",
    "# Scale Amount and Time only (PCA components are already scaled)\n",
    "cols_to_scale = ['Amount'] + (['Time'] if 'Time' in X.columns else [])\n",
    "scaler = StandardScaler()\n",
    "X_train[cols_to_scale] = scaler.fit_transform(X_train[cols_to_scale])\n",
    "X_test[cols_to_scale] = scaler.transform(X_test[cols_to_scale])\n",
    "\n",
    "# Baseline: Logistic Regression (balanced class weights)\n",
    "logit = LogisticRegression(max_iter=200, class_weight='balanced', n_jobs=None)\n",
    "logit.fit(X_train, y_train)\n",
    "proba = logit.predict_proba(X_test)[:,1]\n",
    "\n",
    "auc = roc_auc_score(y_test, proba)\n",
    "print('Baseline Logistic ROC-AUC:', round(auc, 4))\n",
    "print('\\nClassification report (threshold=0.5):\\n', classification_report(y_test, (proba>=0.5).astype(int)))\n",
    "print('\\nConfusion Matrix:\\n', confusion_matrix(y_test, (proba>=0.5).astype(int)))"
   ]
  },
  {
   "cell_type": "code",
   "execution_count": null,
   "id": "4a8d8d3d-f680-49f1-88a5-792af037f634",
   "metadata": {},
   "outputs": [],
   "source": []
  }
 ],
 "metadata": {
  "kernelspec": {
   "display_name": "Python 3 (ipykernel)",
   "language": "python",
   "name": "python3"
  },
  "language_info": {
   "codemirror_mode": {
    "name": "ipython",
    "version": 3
   },
   "file_extension": ".py",
   "mimetype": "text/x-python",
   "name": "python",
   "nbconvert_exporter": "python",
   "pygments_lexer": "ipython3",
   "version": "3.12.7"
  }
 },
 "nbformat": 4,
 "nbformat_minor": 5
}
