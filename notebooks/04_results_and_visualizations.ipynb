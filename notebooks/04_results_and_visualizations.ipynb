{
 "cells": [
  {
   "cell_type": "markdown",
   "id": "3d9d251d",
   "metadata": {},
   "source": [
    "# 04 – Results and Visualizations\n",
    "Train with best params and visualize metrics."
   ]
  },
  {
   "cell_type": "code",
   "execution_count": 7,
   "id": "888039b6",
   "metadata": {},
   "outputs": [
    {
     "name": "stdout",
     "output_type": "stream",
     "text": [
      "Test ROC-AUC: 0.9738\n",
      "PR AUC: 0.7557\n",
      "\n",
      "Classification report (0.5 threshold):\n",
      "               precision    recall  f1-score   support\n",
      "\n",
      "           0       1.00      0.99      0.99     56864\n",
      "           1       0.13      0.86      0.22        98\n",
      "\n",
      "    accuracy                           0.99     56962\n",
      "   macro avg       0.56      0.92      0.61     56962\n",
      "weighted avg       1.00      0.99      0.99     56962\n",
      "\n",
      "\n",
      "Confusion Matrix:\n",
      " [[56287   577]\n",
      " [   14    84]]\n"
     ]
    },
    {
     "data": {
      "image/png": "[encoded data removed]",
      "text/plain": [
       "<Figure size 640x480 with 1 Axes>"
      ]
     },
     "metadata": {},
     "output_type": "display_data"
    }
   ],
   "source": [
    "import pandas as pd\n",
    "from pathlib import Path\n",
    "from sklearn.model_selection import train_test_split\n",
    "from sklearn.preprocessing import StandardScaler\n",
    "from sklearn.metrics import roc_auc_score, precision_recall_curve, auc, confusion_matrix, classification_report\n",
    "from sklearn.ensemble import RandomForestClassifier\n",
    "import matplotlib.pyplot as plt\n",
    "\n",
    "df = pd.read_csv(Path('../data/raw/creditcard.csv'))\n",
    "X = df.drop(columns=['Class'])\n",
    "y = df['Class']\n",
    "\n",
    "X_train, X_test, y_train, y_test = train_test_split(\n",
    "    X, y, test_size=0.2, random_state=42, stratify=y\n",
    ")\n",
    "\n",
    "cols_to_scale = ['Amount'] + (['Time'] if 'Time' in X.columns else [])\n",
    "scaler = StandardScaler()\n",
    "X_train[cols_to_scale] = scaler.fit_transform(X_train[cols_to_scale])\n",
    "X_test[cols_to_scale] = scaler.transform(X_test[cols_to_scale])\n",
    "\n",
    "# Replace with the best result printed by the tuning notebook\n",
    "best = dict(n_estimators=177.99726, max_depth=4.9293377, max_features=0.8929409, min_samples_split=12.820070, min_samples_leaf=7.3726532)\n",
    "clf = RandomForestClassifier(\n",
    "    n_estimators=int(best['n_estimators']),\n",
    "    max_depth=int(best['max_depth']),\n",
    "    max_features=float(best['max_features']),\n",
    "    min_samples_split=int(best['min_samples_split']),\n",
    "    min_samples_leaf=int(best['min_samples_leaf']),\n",
    "    class_weight='balanced_subsample',\n",
    "    random_state=42,\n",
    "    n_jobs=-1\n",
    ")\n",
    "clf.fit(X_train, y_train)\n",
    "\n",
    "proba = clf.predict_proba(X_test)[:,1]\n",
    "roc = roc_auc_score(y_test, proba)\n",
    "\n",
    "from sklearn.metrics import precision_recall_curve, auc\n",
    "prec, rec, thr = precision_recall_curve(y_test, proba)\n",
    "pr_auc = auc(rec, prec)\n",
    "\n",
    "print('Test ROC-AUC:', round(roc, 4))\n",
    "print('PR AUC:', round(pr_auc, 4))\n",
    "print('\\nClassification report (0.5 threshold):\\n', classification_report(y_test, (proba>=0.5).astype(int)))\n",
    "print('\\nConfusion Matrix:\\n', confusion_matrix(y_test, (proba>=0.5).astype(int)))\n",
    "\n",
    "plt.figure()\n",
    "plt.plot(rec, prec)\n",
    "plt.xlabel('Recall'); plt.ylabel('Precision'); plt.title('Precision-Recall Curve')\n",
    "plt.show()"
   ]
  },
  {
   "cell_type": "code",
   "execution_count": 8,
   "id": "604452ab-a58d-42f5-a19c-cc5f007cba43",
   "metadata": {},
   "outputs": [
    {
     "data": {
      "text/plain": [
       "['../models/fraud_rf.pkl']"
      ]
     },
     "execution_count": 8,
     "metadata": {},
     "output_type": "execute_result"
    }
   ],
   "source": [
    "import joblib, pathlib\n",
    "pathlib.Path('../models').mkdir(exist_ok=True)\n",
    "joblib.dump(clf, '../models/fraud_rf.pkl')"
   ]
  },
  {
   "cell_type": "code",
   "execution_count": 9,
   "id": "3cce5539-e292-43ae-8736-7f30d523375d",
   "metadata": {},
   "outputs": [
    {
     "data": {
      "text/plain": [
       "{'threshold': 0.8200000000000001,\n",
       " 'precision': 0.5031055900621118,\n",
       " 'recall': 0.826530612244898,\n",
       " 'f1': 0.6254826254826255}"
      ]
     },
     "execution_count": 9,
     "metadata": {},
     "output_type": "execute_result"
    }
   ],
   "source": [
    "import numpy as np\n",
    "from sklearn.metrics import precision_score, recall_score, f1_score, confusion_matrix\n",
    "\n",
    "def pick_threshold(y_true, p, min_precision=0.50):\n",
    "    grid = np.linspace(0.01, 0.99, 99)\n",
    "    rows = []\n",
    "    for t in grid:\n",
    "        y_pred = (p >= t).astype(int)\n",
    "        prec = precision_score(y_true, y_pred, zero_division=0)\n",
    "        rec  = recall_score(y_true, y_pred, zero_division=0)\n",
    "        f1   = f1_score(y_true, y_pred, zero_division=0)\n",
    "        rows.append((t, prec, rec, f1))\n",
    "    # choose highest recall among thresholds meeting min precision; fallback to best F1\n",
    "    cand = [r for r in rows if r[1] >= min_precision]\n",
    "    best = max(cand, key=lambda r: r[2]) if cand else max(rows, key=lambda r: r[3])\n",
    "    return {\"threshold\": best[0], \"precision\": best[1], \"recall\": best[2], \"f1\": best[3]}\n",
    "\n",
    "best_thr = pick_threshold(y_test, proba, min_precision=0.50)\n",
    "best_thr"
   ]
  },
  {
   "cell_type": "code",
   "execution_count": 10,
   "id": "feaf56b0-6ab6-413f-9b9a-25ff5557c18a",
   "metadata": {},
   "outputs": [
    {
     "name": "stdout",
     "output_type": "stream",
     "text": [
      "Chosen threshold: 0.82\n",
      "Precision: 0.5031 Recall: 0.8265 F1: 0.6255\n",
      "\n",
      "Classification report (chosen threshold):\n",
      "              precision    recall  f1-score   support\n",
      "\n",
      "           0       1.00      1.00      1.00     56864\n",
      "           1       0.50      0.83      0.63        98\n",
      "\n",
      "    accuracy                           1.00     56962\n",
      "   macro avg       0.75      0.91      0.81     56962\n",
      "weighted avg       1.00      1.00      1.00     56962\n",
      "\n",
      "\n",
      "Confusion Matrix:\n",
      "[[56784    80]\n",
      " [   17    81]]\n",
      "\n",
      "TN=56784, FP=80, FN=17, TP=81\n"
     ]
    }
   ],
   "source": [
    "from sklearn.metrics import classification_report, confusion_matrix\n",
    "\n",
    "t = float(best_thr[\"threshold\"])  # ~0.82\n",
    "y_pred = (proba >= t).astype(int)\n",
    "\n",
    "print(f\"Chosen threshold: {t:.2f}\")\n",
    "print(\"Precision:\", round(best_thr[\"precision\"],4),\n",
    "      \"Recall:\", round(best_thr[\"recall\"],4),\n",
    "      \"F1:\", round(best_thr[\"f1\"],4))\n",
    "\n",
    "print(\"\\nClassification report (chosen threshold):\")\n",
    "print(classification_report(y_test, y_pred, zero_division=0))\n",
    "\n",
    "cm = confusion_matrix(y_test, y_pred)\n",
    "tn, fp, fn, tp = cm.ravel()\n",
    "print(\"\\nConfusion Matrix:\")\n",
    "print(cm)\n",
    "print(f\"\\nTN={tn}, FP={fp}, FN={fn}, TP={tp}\")"
   ]
  },
  {
   "cell_type": "code",
   "execution_count": 11,
   "id": "ed251ac5-ac28-4a49-84d9-e2c0bc622fd0",
   "metadata": {},
   "outputs": [
    {
     "name": "stdout",
     "output_type": "stream",
     "text": [
      "PR AUC: 0.7557\n"
     ]
    },
    {
     "data": {
      "image/png": "[encoded data removed]",
      "text/plain": [
       "<Figure size 640x480 with 1 Axes>"
      ]
     },
     "metadata": {},
     "output_type": "display_data"
    },
    {
     "data": {
      "text/plain": [
       "<Figure size 640x480 with 0 Axes>"
      ]
     },
     "metadata": {},
     "output_type": "display_data"
    }
   ],
   "source": [
    "from sklearn.metrics import precision_recall_curve, auc\n",
    "prec, rec, thr = precision_recall_curve(y_test, proba)\n",
    "pr_auc = auc(rec, prec)\n",
    "print(\"PR AUC:\", round(pr_auc,4))\n",
    "\n",
    "import numpy as np, matplotlib.pyplot as plt\n",
    "plt.figure()\n",
    "plt.plot(rec, prec, label=f'PR curve (AUC={pr_auc:.3f})')\n",
    "\n",
    "# Mark the chosen threshold on the curve (closest thr)\n",
    "if len(thr) > 0:\n",
    "    idx = (np.abs(thr - t)).argmin()\n",
    "    plt.scatter(rec[idx], prec[idx], s=50, label=f't={t:.2f}')\n",
    "\n",
    "plt.xlabel('Recall'); plt.ylabel('Precision'); plt.title('Precision–Recall')\n",
    "plt.legend(); plt.show()\n",
    "\n",
    "plt.savefig(\"../docs/pr_curve.png\", bbox_inches=\"tight\", dpi=160)"
   ]
  },
  {
   "cell_type": "code",
   "execution_count": 12,
   "id": "b380ffdd-2b0c-4ddb-961f-d044643133a6",
   "metadata": {},
   "outputs": [
    {
     "name": "stdout",
     "output_type": "stream",
     "text": [
      "Saved ../models/fraud_rf_artifact.json\n"
     ]
    }
   ],
   "source": [
    "import json, pathlib\n",
    "pathlib.Path(\"../models\").mkdir(exist_ok=True)\n",
    "artifact = {\"best_params\": best, \"threshold\": float(t)}\n",
    "with open(\"../models/fraud_rf_artifact.json\", \"w\") as f:\n",
    "    json.dump(artifact, f, indent=2)\n",
    "print(\"Saved ../models/fraud_rf_artifact.json\")"
   ]
  },
  {
   "cell_type": "code",
   "execution_count": 19,
   "id": "89028fd3-ff80-42fa-a5e3-bb1e8fb1bae0",
   "metadata": {},
   "outputs": [
    {
     "name": "stdout",
     "output_type": "stream",
     "text": [
      "C:\\Users\\dell\\Downloads\\ML_Portfolio_Fraud_Detection\\ML_Portfolio_Fraud_Detection\\docs\\pr_curve.png\n",
      "True\n"
     ]
    }
   ],
   "source": [
    "from pathlib import Path\n",
    "\n",
    "p = Path('../docs/pr_curve.png').resolve()\n",
    "print(p)            # shows the exact location it tried to save\n",
    "print(p.exists())   # True means the file exists there"
   ]
  },
  {
   "cell_type": "code",
   "execution_count": null,
   "id": "9dd80c43-5cb5-44c7-9719-7729a8587c65",
   "metadata": {},
   "outputs": [],
   "source": []
  }
 ],
 "metadata": {
  "kernelspec": {
   "display_name": "Python [conda env:anaconda3] *",
   "language": "python",
   "name": "conda-env-anaconda3-py"
  },
  "language_info": {
   "codemirror_mode": {
    "name": "ipython",
    "version": 3
   },
   "file_extension": ".py",
   "mimetype": "text/x-python",
   "name": "python",
   "nbconvert_exporter": "python",
   "pygments_lexer": "ipython3",
   "version": "3.12.7"
  }
 },
 "nbformat": 4,
 "nbformat_minor": 5
}
